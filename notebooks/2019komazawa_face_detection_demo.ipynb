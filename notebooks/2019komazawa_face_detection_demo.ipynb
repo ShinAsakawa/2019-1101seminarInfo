{
  "nbformat": 4,
  "nbformat_minor": 0,
  "metadata": {
    "colab": {
      "name": "2019komazawa_face_detection_demo.ipynb",
      "version": "0.3.2",
      "provenance": [],
      "private_outputs": true,
      "include_colab_link": true
    },
    "kernelspec": {
      "name": "python3",
      "display_name": "Python 3"
    },
    "accelerator": "GPU"
  },
  "cells": [
    {
      "cell_type": "markdown",
      "metadata": {
        "id": "view-in-github",
        "colab_type": "text"
      },
      "source": [
        "<a href=\"https://colab.research.google.com/github/ShinAsakawa/2019komazawa/blob/master/notebooks/2019komazawa_face_detection_demo.ipynb\" target=\"_parent\"><img src=\"https://colab.research.google.com/assets/colab-badge.svg\" alt=\"Open In Colab\"/></a>"
      ]
    },
    {
      "cell_type": "code",
      "metadata": {
        "id": "1KM3DIdcYy49",
        "colab_type": "code",
        "colab": {}
      },
      "source": [
        "import cv2\n",
        "import numpy as np\n",
        "import matplotlib.pyplot as plt\n",
        "import dlib\n",
        "from imutils import face_utils\n"
      ],
      "execution_count": 0,
      "outputs": []
    },
    {
      "cell_type": "code",
      "metadata": {
        "id": "quM_M75McsHA",
        "colab_type": "code",
        "colab": {}
      },
      "source": [
        "cv2base = '/usr/local/lib/python3.6/dist-packages/cv2/data/'\n",
        "facePath = cv2base + \"haarcascade_frontalface_default.xml\"\n",
        "eyePath = cv2base + \"haarcascade_eye.xml\"\n",
        "smilePath = cv2base + \"haarcascade_smile.xml\"\n",
        "\n",
        "faceCascade = cv2.CascadeClassifier(facePath)\n",
        "eyeCascade = cv2.CascadeClassifier(eyePath)\n",
        "smileCascade = cv2.CascadeClassifier(smilePath)"
      ],
      "execution_count": 0,
      "outputs": []
    },
    {
      "cell_type": "markdown",
      "metadata": {
        "id": "F1L7mfotex5j",
        "colab_type": "text"
      },
      "source": [
        "-  外部から画像を読み込みには `!wget <URL>`\n",
        "- あるいは自分の PC からアップロードするには以下のセルを参照してください"
      ]
    },
    {
      "cell_type": "code",
      "metadata": {
        "id": "66Y4GewbcScm",
        "colab_type": "code",
        "colab": {}
      },
      "source": [
        "from google.colab import files\n",
        "files.upload()"
      ],
      "execution_count": 0,
      "outputs": []
    },
    {
      "cell_type": "code",
      "metadata": {
        "id": "0UU-VDNieNs9",
        "colab_type": "code",
        "colab": {}
      },
      "source": [
        "!mv Portrait.jpg face.jpg"
      ],
      "execution_count": 0,
      "outputs": []
    },
    {
      "cell_type": "code",
      "metadata": {
        "id": "h11g_DGNepNU",
        "colab_type": "code",
        "colab": {}
      },
      "source": [
        "img = plt.imread('face.jpg')\n",
        "plt.figure(figsize=(12,12))\n",
        "plt.imshow(img)\n",
        "plt.show()"
      ],
      "execution_count": 0,
      "outputs": []
    },
    {
      "cell_type": "code",
      "metadata": {
        "id": "t-QO5UD9hYM1",
        "colab_type": "code",
        "colab": {}
      },
      "source": [
        "#!wget https://github.com/davisking/dlib-models/blob/master/mmod_human_face_detector.dat.bz2\n",
        "!wget https://github.com/davisking/dlib-models/raw/master/mmod_human_face_detector.dat.bz2\n",
        "!bunzip2 mmod_human_face_detector.dat.bz2"
      ],
      "execution_count": 0,
      "outputs": []
    },
    {
      "cell_type": "code",
      "metadata": {
        "id": "dHistlItnILV",
        "colab_type": "code",
        "colab": {}
      },
      "source": [
        "dnnFaceDetector = dlib.cnn_face_detection_model_v1(\"./mmod_human_face_detector.dat\")\n",
        "rects = dnnFaceDetector(img, 1)\n",
        "    \n",
        "for (i, rect) in enumerate(rects):\n",
        "\n",
        "    x1 = rect.rect.left()\n",
        "    y1 = rect.rect.top()\n",
        "    x2 = rect.rect.right()\n",
        "    y2 = rect.rect.bottom()\n",
        "        \n",
        "    # Rectangle around the face\n",
        "    cv2.rectangle(img, (x1, y1), (x2, y2), (255, 255, 255), 3)"
      ],
      "execution_count": 0,
      "outputs": []
    },
    {
      "cell_type": "code",
      "metadata": {
        "id": "7WsSLiv2pdgV",
        "colab_type": "code",
        "colab": {}
      },
      "source": [
        "plt.figure(figsize=(12,12))\n",
        "plt.imshow(img)\n",
        "plt.show()"
      ],
      "execution_count": 0,
      "outputs": []
    }
  ]
}