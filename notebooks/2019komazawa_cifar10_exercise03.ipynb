{
  "nbformat": 4,
  "nbformat_minor": 0,
  "metadata": {
    "colab": {
      "name": "2019komazawa_cifar10_exercise03.ipynb",
      "version": "0.3.2",
      "provenance": [],
      "private_outputs": true,
      "include_colab_link": true
    },
    "kernelspec": {
      "name": "python3",
      "display_name": "Python 3"
    },
    "accelerator": "GPU"
  },
  "cells": [
    {
      "cell_type": "markdown",
      "metadata": {
        "id": "view-in-github",
        "colab_type": "text"
      },
      "source": [
        "<a href=\"https://colab.research.google.com/github/ShinAsakawa/2019komazawa/blob/master/notebooks/2019komazawa_cifar10_exercise03.ipynb\" target=\"_parent\"><img src=\"https://colab.research.google.com/assets/colab-badge.svg\" alt=\"Open In Colab\"/></a>"
      ]
    },
    {
      "metadata": {
        "id": "H-uJ3VuQ9xo8",
        "colab_type": "text"
      },
      "cell_type": "markdown",
      "source": [
        "<center>\n",
        "<h1>[駒澤大学心理学特講IIIAディープラーニングの心理学的解釈](https://www.komazawa-u.ac.jp/~kyoumu/syllabus_html/detail/074401.html)</h1>\n",
        "</center>\n",
        "\n",
        "<div align='right'>\n",
        "<a href='mailto:asakawa@ieee.org'>Shin Aasakawa</a>, all rights reserved.<br>\n",
        "Date: 19/Apr/2019<br>\n",
        " MIT license\n",
        "</div>\n",
        "\n",
        "---\n",
        "\n",
        "# CIFAR10 によるはじめての CNN\n",
        "\n",
        "- CIFAR10 とは[アレックス・クリゼンスキー](http://www.cs.toronto.edu/~kriz/index.html)が管理している画像データセットです。\n",
        "- CIFAR とはカナディアン インスティチュート フォー アドバンストリサーチ直訳すればカナダ先端研究所くらいの意味です。\n",
        "- 10 とは 10 分類，すなわち10種類のデータを分類するデータセットであることを意味します。\n",
        "- 詳しくは本家サイト  <http://www.cs.toronto.edu/~kriz/cifar.html> をご覧ください。\n",
        "\n"
      ]
    },
    {
      "metadata": {
        "id": "cLvf0TqczxnS",
        "colab_type": "code",
        "colab": {}
      },
      "cell_type": "code",
      "source": [
        "# まず必要なライブラリを輸入 import します\n",
        "import numpy as np\n",
        "import matplotlib.pyplot as plt\n",
        "from keras.datasets import cifar10"
      ],
      "execution_count": 0,
      "outputs": []
    },
    {
      "metadata": {
        "id": "0vK1BMZazyzo",
        "colab_type": "code",
        "colab": {}
      },
      "cell_type": "code",
      "source": [
        "# このセルでは cifar10 データセットを読み込んでいます\n",
        "# 読み込んだデータセットのサイズを表示しています。\n",
        "# データは 4階テンソル，すなわち4次元のデータです。\n",
        "# 最初の次元がデータ数，2番めと3番めの次元は画像の縦横のピクセル数です。\n",
        "# 最後の次元はチャンネル数，この場合色の次元ですから 3 (R,G,B)になります。\n",
        "(x_train, y_train), (x_test, y_test) = cifar10.load_data() \n",
        "print('x_train shape:', x_train.shape)\n",
        "print(x_train.shape[0], 'train samples')\n",
        "print(x_test.shape[0], 'test samples')\n",
        "\n",
        "num_classes=10\n",
        "class_names={0:'airplane', 1:'automobile', 2:'bird', 3:'cat', 4:'deer', \n",
        "             5:'dog', 6:'frog', 7:'horse', 8:'ship', 9:'truck'}"
      ],
      "execution_count": 0,
      "outputs": []
    },
    {
      "metadata": {
        "id": "7rqnyezv0Eth",
        "colab_type": "code",
        "colab": {}
      },
      "cell_type": "code",
      "source": [
        "# 読み込んだ画像を表示してみます。何度かこのセルを実行するとその都度異なる画像を表示します。\n",
        "# 乱数を使ってその都度異なる画像を表示させているためです\n",
        "# 何度か繰り返してデータの性質を体感してください\n",
        "fig = plt.figure(figsize=(8,3))\n",
        "for i in range(num_classes):\n",
        "    ax = fig.add_subplot(2, 5, 1 + i, xticks=[], yticks=[])\n",
        "    idx = np.where(y_train[:]==i)[0]\n",
        "    features_idx = x_train[idx,::]\n",
        "    img_num = np.random.randint(features_idx.shape[0])\n",
        "    im = features_idx[img_num]\n",
        "    ax.set_title(class_names[i])\n",
        "    plt.imshow(im)\n",
        "plt.show()"
      ],
      "execution_count": 0,
      "outputs": []
    },
    {
      "metadata": {
        "id": "gpt3jYcF0LoS",
        "colab_type": "code",
        "colab": {}
      },
      "cell_type": "code",
      "source": [
        "# ディープラーニングのモデルを作成するために必要な情報を輸入 import します。\n",
        "import keras\n",
        "# 詳しくは 以下の情報をご覧ください\n",
        "# シーケンシャル: <https://keras.io/ja/getting-started/sequential-model-guide/>\n",
        "# デンス: <https://keras.io/ja/layers/core/#dense>\n",
        "# ドロップアウト: <https://keras.io/ja/layers/core/#dropout>\n",
        "# アクティベーション: <https://keras.io/ja/layers/advanced-activations/>\n",
        "# フラッテン: <https://keras.io/ja/layers/core/#flatten>\n",
        "# コンブ2D: <https://keras.io/ja/layers/convolutional/#conv2d>\n",
        "# マックスプーリング2D: <https://keras.io/ja/layers/pooling/#maxpooling2d>\n",
        "from keras.models import Sequential\n",
        "from keras.layers import Dense, Dropout, Activation, Flatten\n",
        "from keras.layers import Conv2D, MaxPooling2D"
      ],
      "execution_count": 0,
      "outputs": []
    },
    {
      "metadata": {
        "id": "oKSK3sf32xRK",
        "colab_type": "code",
        "colab": {}
      },
      "cell_type": "code",
      "source": [
        "model = Sequential()\n",
        "model.add(Conv2D(32, (3, 3), padding='same',\n",
        "                 input_shape=x_train.shape[1:]))\n",
        "model.add(Activation('relu'))\n",
        "model.add(Conv2D(32, (3, 3)))\n",
        "model.add(Activation('relu'))\n",
        "model.add(MaxPooling2D(pool_size=(2, 2)))\n",
        "model.add(Dropout(0.25))\n",
        "\n",
        "# 以下のコメントを外すと一層ネットワークに追加されます。性能を比較して見るときに使います\n",
        "#model.add(Conv2D(64, (3, 3), padding='same'))\n",
        "#model.add(Activation('relu'))\n",
        "#model.add(Conv2D(64, (3, 3)))\n",
        "#model.add(Activation('relu'))\n",
        "#model.add(MaxPooling2D(pool_size=(2, 2)))\n",
        "#model.add(Dropout(0.25))\n",
        "\n",
        "model.add(Flatten())\n",
        "model.add(Dense(512))\n",
        "model.add(Activation('relu'))\n",
        "model.add(Dropout(0.5))\n",
        "model.add(Dense(num_classes))\n",
        "model.add(Activation('softmax'))\n",
        "\n",
        "# initiate RMSprop optimizer\n",
        "opt = keras.optimizers.rmsprop(lr=0.0001, decay=1e-6)\n",
        "\n",
        "# Let's train the model using RMSprop\n",
        "model.compile(loss='categorical_crossentropy',\n",
        "              optimizer=opt,\n",
        "              metrics=['accuracy'])\n",
        "\n"
      ],
      "execution_count": 0,
      "outputs": []
    },
    {
      "metadata": {
        "id": "mFodCGCQ9T--",
        "colab_type": "code",
        "colab": {}
      },
      "cell_type": "code",
      "source": [
        "# 上のセルで作ったモデルの概略を表示してみましょう\n",
        "keras.utils.print_summary(model)"
      ],
      "execution_count": 0,
      "outputs": []
    },
    {
      "metadata": {
        "id": "qfj5vhVX5L5v",
        "colab_type": "code",
        "colab": {}
      },
      "cell_type": "code",
      "source": [
        "# 学習に先立って調整します\n",
        "import keras\n",
        "# Convert class vectors to binary class matrices.\n",
        "y_train = keras.utils.to_categorical(y_train, num_classes)\n",
        "y_test = keras.utils.to_categorical(y_test, num_classes)\n"
      ],
      "execution_count": 0,
      "outputs": []
    },
    {
      "metadata": {
        "id": "0eWu-hL85lGi",
        "colab_type": "code",
        "colab": {}
      },
      "cell_type": "code",
      "source": [
        "#データの確認\n",
        "np.min(x_train[0]), np.max(x_train[0])"
      ],
      "execution_count": 0,
      "outputs": []
    },
    {
      "metadata": {
        "id": "j-mCNYdS5f2E",
        "colab_type": "code",
        "colab": {}
      },
      "cell_type": "code",
      "source": [
        "# データを変換します\n",
        "x_train = x_train.astype('float32')\n",
        "x_test = x_test.astype('float32')\n",
        "x_train /= 255\n",
        "x_test /= 255"
      ],
      "execution_count": 0,
      "outputs": []
    },
    {
      "metadata": {
        "id": "UTCLAV-K53To",
        "colab_type": "code",
        "colab": {}
      },
      "cell_type": "code",
      "source": [
        "# 実際に訓練させます。時間がないので，ごく少数のデータだけ使うことにします\n",
        "history = model.fit(x_train[:20000], y_train[:20000],\n",
        "                    batch_size=32,\n",
        "                    epochs=30,\n",
        "                    verbose=1,\n",
        "                    validation_data=(x_test, y_test))\n",
        "score = model.evaluate(x_test, y_test, verbose=0)\n",
        "print('Test loss:', score[0])\n",
        "print('Test accuracy:', score[1])\n"
      ],
      "execution_count": 0,
      "outputs": []
    },
    {
      "metadata": {
        "id": "bXkG3qA76XrY",
        "colab_type": "code",
        "colab": {}
      },
      "cell_type": "code",
      "source": [
        "keras.utils.print_summary(model)"
      ],
      "execution_count": 0,
      "outputs": []
    },
    {
      "metadata": {
        "id": "_v_xmRos7mJM",
        "colab_type": "code",
        "colab": {}
      },
      "cell_type": "code",
      "source": [
        ""
      ],
      "execution_count": 0,
      "outputs": []
    }
  ]
}