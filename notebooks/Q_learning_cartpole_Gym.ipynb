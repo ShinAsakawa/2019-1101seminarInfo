{
  "nbformat": 4,
  "nbformat_minor": 0,
  "metadata": {
    "colab": {
      "name": "Copy of 2019komazawa_Q-learning_cartpole_Gym.ipynb",
      "provenance": [],
      "private_outputs": true,
      "include_colab_link": true
    },
    "kernelspec": {
      "name": "python3",
      "display_name": "Python 3"
    },
    "accelerator": "GPU"
  },
  "cells": [
    {
      "cell_type": "markdown",
      "metadata": {
        "id": "view-in-github",
        "colab_type": "text"
      },
      "source": [
        "<a href=\"https://colab.research.google.com/github/ShinAsakawa/2019-1101seminarInfo/blob/master/notebooks/Q_learning_cartpole_Gym.ipynb\" target=\"_parent\"><img src=\"https://colab.research.google.com/assets/colab-badge.svg\" alt=\"Open In Colab\"/></a>"
      ]
    },
    {
      "cell_type": "markdown",
      "metadata": {
        "id": "_hJRDBFyqpFn",
        "colab_type": "text"
      },
      "source": [
        "# セミナーインフォ資料\n",
        "\n",
        "## Q学習による倒立振子の学習\n",
        "浅川伸一\n",
        "\n",
        "- [OpenAI の開発した強化学習環境 gym](http://gym.openai.com/)\n",
        "- [starai による Google Colab 上で Gym をレンダリングする環境 ](https://star-ai.github.io/Rendering-OpenAi-Gym-in-Colaboratory/) \n",
        "- [小川榮太郎さんの深層強化学習本のQ学習サンプルプログラム](https://github.com/YutaroOgawa/Deep-Reinforcement-Learning-Book/blob/master/program/3_4_Qlearning_CartPole.ipynb)\n",
        "\n",
        "上記 3 つの環境整備とコードにより実習が可能となります。すぐれた環境とコードを提供してくれたすべての関係者に感謝いたします。\n",
        "\n",
        "<!--<center>\n",
        "<img src=\"https://avatars0.githubusercontent.com/u/38151872\" style=\"width:5%\"><br>\n",
        " 小川栄太郎さん\n",
        " </center>\n",
        "-->"
      ]
    },
    {
      "cell_type": "markdown",
      "metadata": {
        "id": "odNaDE1zyrL2",
        "colab_type": "text"
      },
      "source": [
        "# Gym とレンダリング環境が依存するライブラリのインストール\n",
        "Rendering Dependancies\n",
        "\n"
      ]
    },
    {
      "cell_type": "code",
      "metadata": {
        "id": "8-AxnvAVyzQQ",
        "colab_type": "code",
        "colab": {}
      },
      "source": [
        "#何が起こっているかを知りたい場合には下のコマンド中不等号以下をremove \" > /dev/null 2>&1\" を削除してください\n",
        "!pip install gym pyvirtualdisplay > /dev/null 2>&1\n",
        "!apt-get install -y xvfb python-opengl ffmpeg > /dev/null 2>&1"
      ],
      "execution_count": 0,
      "outputs": []
    },
    {
      "cell_type": "markdown",
      "metadata": {
        "id": "8A-1LTSH88EE",
        "colab_type": "text"
      },
      "source": [
        "更に下準備"
      ]
    },
    {
      "cell_type": "code",
      "metadata": {
        "id": "TCelFzWY9MBI",
        "colab_type": "code",
        "colab": {}
      },
      "source": [
        "!apt-get update > /dev/null 2>&1\n",
        "!apt-get install cmake > /dev/null 2>&1\n",
        "!pip install --upgrade setuptools 2>&1\n",
        "!pip install ez_setup > /dev/null 2>&1\n",
        "#ATARI のゲーム環境を使いたければ直下行のコメントを外してください\n",
        "#!pip install gym[atari] > /dev/null 2>&1"
      ],
      "execution_count": 0,
      "outputs": []
    },
    {
      "cell_type": "code",
      "metadata": {
        "id": "tSBozJNSoe4h",
        "colab_type": "code",
        "colab": {}
      },
      "source": [
        "# どのような環境が利用できるか表示してみます\n",
        "from gym import envs\n",
        "for e in envs.registry.all():\n",
        "    print(e)\n",
        "# 結果はかなり長いリストが表示されます。下の実行には無関係なので無視して構いません    "
      ],
      "execution_count": 0,
      "outputs": []
    },
    {
      "cell_type": "markdown",
      "metadata": {
        "id": "APXSx7hg19TH",
        "colab_type": "text"
      },
      "source": [
        "# 必要なヘルパ関数やライブラリをインポート\n"
      ]
    },
    {
      "cell_type": "code",
      "metadata": {
        "id": "pdb2JwZy4jGj",
        "colab_type": "code",
        "colab": {}
      },
      "source": [
        "import gym\n",
        "from gym import logger as gymlogger\n",
        "from gym.wrappers import Monitor\n",
        "gymlogger.set_level(40) #error only\n",
        "import tensorflow as tf\n",
        "import numpy as np\n",
        "import random\n",
        "import matplotlib\n",
        "import matplotlib.pyplot as plt\n",
        "%matplotlib inline\n",
        "import math\n",
        "import glob\n",
        "import io\n",
        "import base64\n",
        "from IPython.display import HTML\n",
        "\n",
        "from IPython import display as ipythondisplay"
      ],
      "execution_count": 0,
      "outputs": []
    },
    {
      "cell_type": "code",
      "metadata": {
        "id": "nQEtc28G4niA",
        "colab_type": "code",
        "colab": {}
      },
      "source": [
        "from pyvirtualdisplay import Display\n",
        "display = Display(visible=0, size=(1400, 900))\n",
        "display.start()"
      ],
      "execution_count": 0,
      "outputs": []
    },
    {
      "cell_type": "code",
      "metadata": {
        "id": "G9UWeToN4r7D",
        "colab_type": "code",
        "colab": {}
      },
      "source": [
        "\"\"\"\n",
        "Utility functions to enable video recording of gym environment and displaying it\n",
        "To enable video, just do \"env = wrap_env(env)\"\"\n",
        "\"\"\"\n",
        "\n",
        "def show_video():\n",
        "  mp4list = glob.glob('video/*.mp4')\n",
        "  if len(mp4list) > 0:\n",
        "    mp4 = mp4list[0]\n",
        "    video = io.open(mp4, 'r+b').read()\n",
        "    encoded = base64.b64encode(video)\n",
        "    ipythondisplay.display(HTML(data='''<video alt=\"test\" autoplay \n",
        "                loop controls style=\"height: 400px;\">\n",
        "                <source src=\"data:video/mp4;base64,{0}\" type=\"video/mp4\" />\n",
        "             </video>'''.format(encoded.decode('ascii'))))\n",
        "  else: \n",
        "    print(\"Could not find video\")\n",
        "    \n",
        "\n",
        "def wrap_env(env):\n",
        "  env = Monitor(env, './video', force=True)\n",
        "  return env"
      ],
      "execution_count": 0,
      "outputs": []
    },
    {
      "cell_type": "markdown",
      "metadata": {
        "id": "W3BGbWOu179M",
        "colab_type": "text"
      },
      "source": [
        "# いろいろ遊んでみよう！"
      ]
    },
    {
      "cell_type": "code",
      "metadata": {
        "id": "dGEFMfDOzLen",
        "colab_type": "code",
        "colab": {}
      },
      "source": [
        "#env = wrap_env(gym.make(\"MsPacman-v0\"))\n",
        "env = wrap_env(gym.make(\"CartPole-v0\"))"
      ],
      "execution_count": 0,
      "outputs": []
    },
    {
      "cell_type": "code",
      "metadata": {
        "id": "7BmIlXhe9Q89",
        "colab_type": "code",
        "colab": {}
      },
      "source": [
        "#check out the pacman action space!\n",
        "print(env.action_space)"
      ],
      "execution_count": 0,
      "outputs": []
    },
    {
      "cell_type": "code",
      "metadata": {
        "id": "d18oZzhYh3u7",
        "colab_type": "code",
        "colab": {}
      },
      "source": [
        "# 定数の設定\n",
        "ENV = 'CartPole-v0'  # 使用する課題名\n",
        "NUM_DIZITIZED = 6  # 各状態の離散値への分割数\n",
        "GAMMA = 0.99  # 時間割引率\n",
        "ETA = 0.5  # 学習係数\n",
        "MAX_STEPS = 200  # 1試行のstep数\n",
        "NUM_EPISODES = 1000  # 最大試行回数"
      ],
      "execution_count": 0,
      "outputs": []
    },
    {
      "cell_type": "code",
      "metadata": {
        "id": "C8PUQS4_h7xg",
        "colab_type": "code",
        "colab": {}
      },
      "source": [
        "class Agent:\n",
        "    '''CartPoleのエージェントクラスです、棒付き台車そのものになります'''\n",
        "\n",
        "    def __init__(self, num_states, num_actions):\n",
        "        self.brain = Brain(num_states, num_actions)  # エージェントが行動を決定するための頭脳を生成\n",
        "\n",
        "    def update_Q_function(self, observation, action, reward, observation_next):\n",
        "        '''Q関数の更新'''\n",
        "        self.brain.update_Q_table(\n",
        "            observation, action, reward, observation_next)\n",
        "\n",
        "    def get_action(self, observation, step):\n",
        "        '''行動の決定'''\n",
        "        action = self.brain.decide_action(observation, step)\n",
        "        return action"
      ],
      "execution_count": 0,
      "outputs": []
    },
    {
      "cell_type": "code",
      "metadata": {
        "id": "CdlxN8-ziFXu",
        "colab_type": "code",
        "colab": {}
      },
      "source": [
        "class Brain:\n",
        "    '''エージェントが持つ脳となるクラスです、Q学習を実行します'''\n",
        "\n",
        "    def __init__(self, num_states, num_actions):\n",
        "        self.num_actions = num_actions  # CartPoleの行動（右に左に押す）の2を取得\n",
        "\n",
        "        # Qテーブルを作成。行数は状態を分割数^（4変数）にデジタル変換した値、列数は行動数を示す\n",
        "        self.q_table = np.random.uniform(low=0, high=1, size=(\n",
        "            NUM_DIZITIZED**num_states, num_actions))\n",
        "\n",
        "\n",
        "    def bins(self, clip_min, clip_max, num):\n",
        "        '''観測した状態（連続値）を離散値にデジタル変換する閾値を求める'''\n",
        "        return np.linspace(clip_min, clip_max, num + 1)[1:-1]\n",
        "\n",
        "    def digitize_state(self, observation):\n",
        "        '''観測したobservation状態を、離散値に変換する'''\n",
        "        cart_pos, cart_v, pole_angle, pole_v = observation\n",
        "        digitized = [\n",
        "            np.digitize(cart_pos, bins=self.bins(-2.4, 2.4, NUM_DIZITIZED)),\n",
        "            np.digitize(cart_v, bins=self.bins(-3.0, 3.0, NUM_DIZITIZED)),\n",
        "            np.digitize(pole_angle, bins=self.bins(-0.5, 0.5, NUM_DIZITIZED)),\n",
        "            np.digitize(pole_v, bins=self.bins(-2.0, 2.0, NUM_DIZITIZED))\n",
        "        ]\n",
        "        return sum([x * (NUM_DIZITIZED**i) for i, x in enumerate(digitized)])\n",
        "\n",
        "    def update_Q_table(self, observation, action, reward, observation_next):\n",
        "        '''QテーブルをQ学習により更新'''\n",
        "        state = self.digitize_state(observation)  # 状態を離散化\n",
        "        state_next = self.digitize_state(observation_next)  # 次の状態を離散化\n",
        "        Max_Q_next = max(self.q_table[state_next][:])\n",
        "        self.q_table[state, action] = self.q_table[state, action] + \\\n",
        "            ETA * (reward + GAMMA * Max_Q_next - self.q_table[state, action])\n",
        "\n",
        "    def decide_action(self, observation, episode):\n",
        "        '''ε-greedy法で徐々に最適行動のみを採用する'''\n",
        "        state = self.digitize_state(observation)\n",
        "        epsilon = 0.5 * (1 / (episode + 1))\n",
        "\n",
        "        if epsilon <= np.random.uniform(0, 1):\n",
        "            action = np.argmax(self.q_table[state][:])\n",
        "        else:\n",
        "            action = np.random.choice(self.num_actions)  # 0,1の行動をランダムに返す\n",
        "        return action"
      ],
      "execution_count": 0,
      "outputs": []
    },
    {
      "cell_type": "code",
      "metadata": {
        "id": "i7f9rET5iNsy",
        "colab_type": "code",
        "colab": {}
      },
      "source": [
        "class Environment:\n",
        "    '''CartPoleを実行する環境のクラスです'''\n",
        "\n",
        "    def __init__(self):\n",
        "        #self.env = gym.make(ENV)  # 実行する課題を設定\n",
        "        self.env = Monitor(gym.make(ENV), './video', force=True)\n",
        "        num_states = self.env.observation_space.shape[0]  # 課題の状態の数4を取得\n",
        "        num_actions = self.env.action_space.n  # CartPoleの行動（右に左に押す）の2を取得\n",
        "        self.agent = Agent(num_states, num_actions)  # 環境内で行動するAgentを生成\n",
        "\n",
        "    def run(self):\n",
        "        '''実行'''\n",
        "        complete_episodes = 0  # 195step以上連続で立ち続けた試行数\n",
        "        is_episode_final = False  # 最終試行フラグ\n",
        "        #frames = []  # 動画用に画像を格納する変数\n",
        "\n",
        "        for episode in range(NUM_EPISODES):  # 試行数分繰り返す\n",
        "            observation = self.env.reset()  # 環境の初期化\n",
        "\n",
        "            for step in range(MAX_STEPS):  # 1エピソードのループ\n",
        "\n",
        "                #if is_episode_final is True:  # 最終試行ではframesに各時刻の画像を追加していく\n",
        "                #    frames.append(self.env.render(mode='rgb_array'))\n",
        "\n",
        "                # 行動を求める\n",
        "                action = self.agent.get_action(observation, episode)\n",
        "\n",
        "                # 行動a_tの実行により、s_{t+1}, r_{t+1}を求める\n",
        "                observation_next, _, done, _ = self.env.step(\n",
        "                    action)  # rewardとinfoは使わないので_にする\n",
        "\n",
        "                # 報酬を与える\n",
        "                if done:  # ステップ数が200経過するか、一定角度以上傾くとdoneはtrueになる\n",
        "                    if step < 195:\n",
        "                        reward = -1  # 途中でこけたら罰則として報酬-1を与える\n",
        "                        complete_episodes = 0  # 195step以上連続で立ち続けた試行数をリセット\n",
        "                    else:\n",
        "                        reward = 1  # 立ったまま終了時は報酬1を与える\n",
        "                        complete_episodes += 1  # 連続記録を更新\n",
        "                else:\n",
        "                    reward = 0  # 途中の報酬は0\n",
        "\n",
        "                # step+1の状態observation_nextを用いて,Q関数を更新する\n",
        "                self.agent.update_Q_function(\n",
        "                    observation, action, reward, observation_next)\n",
        "\n",
        "                # 観測の更新\n",
        "                observation = observation_next\n",
        "\n",
        "                # 終了時の処理\n",
        "                if done:\n",
        "                    print('{0} Episode: Finished after {1} time steps'.format(\n",
        "                        episode, step + 1))\n",
        "                    break\n",
        "\n",
        "            if is_episode_final is True:  # 最終試行では動画を保存と描画\n",
        "                #display_frames_as_gif(frames)\n",
        "                break\n",
        "\n",
        "            if complete_episodes >= 10:  # 10連続成功なら\n",
        "                print('10回連続成功')\n",
        "                is_episode_final = True  # 次の試行を描画を行う最終試行とする\n",
        "        env.close()\n",
        "        show_video()\n"
      ],
      "execution_count": 0,
      "outputs": []
    },
    {
      "cell_type": "code",
      "metadata": {
        "id": "S7jbBVyJilET",
        "colab_type": "code",
        "colab": {}
      },
      "source": [
        "# main\n",
        "cartpole_env = Environment()\n",
        "cartpole_env.run()"
      ],
      "execution_count": 0,
      "outputs": []
    }
  ]
}